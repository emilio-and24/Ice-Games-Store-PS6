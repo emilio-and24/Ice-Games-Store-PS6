{
 "cells": [
  {
   "cell_type": "markdown",
   "metadata": {},
   "source": [
    "Df: Videojuegos, historico \n",
    "\n",
    "Para este proyecto, se estara revisando el historico de ventas de videojuegos, tomando en cuenta plataforma, ventas por region y total, ratings de usuarios y criticos. La finalidad es tener el suficiente sustento para crear una campaña para el siguiente año (2017) con base en el historico. "
   ]
  },
  {
   "cell_type": "code",
   "execution_count": 1,
   "metadata": {
    "tags": [
     "e5c1f0c2-db9f-43a0-99b9-4875c52427e8"
    ]
   },
   "outputs": [],
   "source": [
    "import pandas as pd \n",
    "import numpy as np\n",
    "import matplotlib.pyplot as plt\n",
    "import seaborn as sns\n",
    "from scipy import stats as st"
   ]
  },
  {
   "cell_type": "code",
   "execution_count": 2,
   "metadata": {},
   "outputs": [],
   "source": [
    "games = pd.read_csv(\"/datasets/games.csv\")"
   ]
  },
  {
   "cell_type": "code",
   "execution_count": 3,
   "metadata": {
    "scrolled": true
   },
   "outputs": [
    {
     "name": "stdout",
     "output_type": "stream",
     "text": [
      "<class 'pandas.core.frame.DataFrame'>\n",
      "RangeIndex: 16715 entries, 0 to 16714\n",
      "Data columns (total 11 columns):\n",
      " #   Column           Non-Null Count  Dtype  \n",
      "---  ------           --------------  -----  \n",
      " 0   Name             16713 non-null  object \n",
      " 1   Platform         16715 non-null  object \n",
      " 2   Year_of_Release  16446 non-null  float64\n",
      " 3   Genre            16713 non-null  object \n",
      " 4   NA_sales         16715 non-null  float64\n",
      " 5   EU_sales         16715 non-null  float64\n",
      " 6   JP_sales         16715 non-null  float64\n",
      " 7   Other_sales      16715 non-null  float64\n",
      " 8   Critic_Score     8137 non-null   float64\n",
      " 9   User_Score       10014 non-null  object \n",
      " 10  Rating           9949 non-null   object \n",
      "dtypes: float64(6), object(5)\n",
      "memory usage: 1.4+ MB\n"
     ]
    }
   ],
   "source": [
    "games.info(show_counts=True)\n"
   ]
  },
  {
   "cell_type": "markdown",
   "metadata": {},
   "source": [
    "De acuerdo a la informacion del df, no hay necesiadad de convertir el tipo de datos de las columnas debido a que son correctos. A excepcion de user_score porque se está considerando como un str cuando debe de ser un numero. Se puede observar que hay valores ausentes, por lo que hay que tratar eso. "
   ]
  },
  {
   "cell_type": "code",
   "execution_count": 4,
   "metadata": {},
   "outputs": [
    {
     "name": "stdout",
     "output_type": "stream",
     "text": [
      "<class 'pandas.core.frame.DataFrame'>\n",
      "(16715, 11)\n"
     ]
    }
   ],
   "source": [
    "print(type(games))\n",
    "print(games.shape)\n"
   ]
  },
  {
   "cell_type": "code",
   "execution_count": 5,
   "metadata": {},
   "outputs": [
    {
     "name": "stdout",
     "output_type": "stream",
     "text": [
      "                       name platform  year_of_release         genre  na_sales  \\\n",
      "0                Wii Sports      Wii           2006.0        Sports     41.36   \n",
      "1         Super Mario Bros.      NES           1985.0      Platform     29.08   \n",
      "2            Mario Kart Wii      Wii           2008.0        Racing     15.68   \n",
      "3         Wii Sports Resort      Wii           2009.0        Sports     15.61   \n",
      "4  Pokemon Red/Pokemon Blue       GB           1996.0  Role-Playing     11.27   \n",
      "\n",
      "   eu_sales  jp_sales  other_sales  critic_score user_score rating  \n",
      "0     28.96      3.77         8.45          76.0          8      E  \n",
      "1      3.58      6.81         0.77           NaN        NaN    NaN  \n",
      "2     12.76      3.79         3.29          82.0        8.3      E  \n",
      "3     10.93      3.28         2.95          80.0          8      E  \n",
      "4      8.89     10.22         1.00           NaN        NaN    NaN  \n"
     ]
    }
   ],
   "source": [
    "games.columns = games.columns.str.lower()\n",
    "print(games.head())\n",
    "\n"
   ]
  },
  {
   "cell_type": "code",
   "execution_count": 6,
   "metadata": {},
   "outputs": [
    {
     "name": "stdout",
     "output_type": "stream",
     "text": [
      "name                  2\n",
      "platform              0\n",
      "year_of_release     269\n",
      "genre                 2\n",
      "na_sales              0\n",
      "eu_sales              0\n",
      "jp_sales              0\n",
      "other_sales           0\n",
      "critic_score       8578\n",
      "user_score         6701\n",
      "rating             6766\n",
      "dtype: int64\n"
     ]
    }
   ],
   "source": [
    "missing_values = games.isna().sum()\n",
    "\n",
    "print(missing_values)\n"
   ]
  },
  {
   "cell_type": "code",
   "execution_count": 7,
   "metadata": {},
   "outputs": [
    {
     "name": "stdout",
     "output_type": "stream",
     "text": [
      "name                  2\n",
      "platform              0\n",
      "year_of_release     269\n",
      "genre                 2\n",
      "na_sales              0\n",
      "eu_sales              0\n",
      "jp_sales              0\n",
      "other_sales           0\n",
      "critic_score       8578\n",
      "user_score         6701\n",
      "rating             6766\n",
      "dtype: int64\n"
     ]
    }
   ],
   "source": [
    "null_values = games.isnull().sum()\n",
    "print(null_values)"
   ]
  },
  {
   "cell_type": "markdown",
   "metadata": {},
   "source": [
    "Hay varias columna donde existen valores ausentes, dependiente del tipo de informacion, se tendra que lidiar con esos valores de una forma en especifico. \n",
    "\n",
    "En el caso de year, la mejor opcion seria eliminar los valores ausentes porque no son muchos. En el caso de critir y user score sera mejor ocupar la mediana, por la cantidad de valores ausentes y para evitar valore atipicos. En el caso de rating, se ocupara TDB para los valores ausentes. "
   ]
  },
  {
   "cell_type": "code",
   "execution_count": 8,
   "metadata": {},
   "outputs": [],
   "source": [
    "games = games.dropna(subset=[\"year_of_release\"])\n",
    "games[\"year_of_release\"] = games[\"year_of_release\"].astype(\"float64\") "
   ]
  },
  {
   "cell_type": "code",
   "execution_count": 9,
   "metadata": {},
   "outputs": [],
   "source": [
    "critic_median = games[\"critic_score\"].median()\n",
    "games[\"critic_score\"].fillna(critic_median, inplace=True)\n",
    "\n",
    "games[\"user_score\"] = games[\"user_score\"].replace(\"tbd\", np.nan)\n",
    "games[\"user_score\"] = pd.to_numeric(games[\"user_score\"])\n",
    "\n",
    "user_median = games[\"user_score\"].median()\n",
    "games[\"user_score\"].fillna(user_median, inplace=True)\n",
    "\n",
    "games[\"rating\"].fillna(\"TBD\", inplace=True)\n"
   ]
  },
  {
   "cell_type": "code",
   "execution_count": 10,
   "metadata": {},
   "outputs": [],
   "source": [
    "games[\"name\"] = games[\"name\"].dropna()\n",
    "games[\"genre\"] = games[\"genre\"].dropna()"
   ]
  },
  {
   "cell_type": "code",
   "execution_count": 11,
   "metadata": {},
   "outputs": [
    {
     "name": "stdout",
     "output_type": "stream",
     "text": [
      "name               2\n",
      "platform           0\n",
      "year_of_release    0\n",
      "genre              2\n",
      "na_sales           0\n",
      "eu_sales           0\n",
      "jp_sales           0\n",
      "other_sales        0\n",
      "critic_score       0\n",
      "user_score         0\n",
      "rating             0\n",
      "dtype: int64\n"
     ]
    }
   ],
   "source": [
    "missing_values_2 = games.isna().sum()\n",
    "\n",
    "print(missing_values_2)"
   ]
  },
  {
   "cell_type": "code",
   "execution_count": 12,
   "metadata": {
    "scrolled": true
   },
   "outputs": [
    {
     "name": "stdout",
     "output_type": "stream",
     "text": [
      "name               2\n",
      "platform           0\n",
      "year_of_release    0\n",
      "genre              2\n",
      "na_sales           0\n",
      "eu_sales           0\n",
      "jp_sales           0\n",
      "other_sales        0\n",
      "critic_score       0\n",
      "user_score         0\n",
      "rating             0\n",
      "dtype: int64\n"
     ]
    }
   ],
   "source": [
    "null_values2 = games.isnull().sum()\n",
    "print(null_values2)"
   ]
  },
  {
   "cell_type": "code",
   "execution_count": 13,
   "metadata": {},
   "outputs": [],
   "source": [
    "games[\"total_sales\"] = (games[\"na_sales\"] +\n",
    "                       games[\"eu_sales\"] +\n",
    "                       games[\"jp_sales\"] +\n",
    "                       games[\"other_sales\"])"
   ]
  },
  {
   "cell_type": "code",
   "execution_count": 14,
   "metadata": {},
   "outputs": [
    {
     "name": "stdout",
     "output_type": "stream",
     "text": [
      "                                            name platform  year_of_release  \\\n",
      "0                                     Wii Sports      Wii           2006.0   \n",
      "1                              Super Mario Bros.      NES           1985.0   \n",
      "2                                 Mario Kart Wii      Wii           2008.0   \n",
      "3                              Wii Sports Resort      Wii           2009.0   \n",
      "4                       Pokemon Red/Pokemon Blue       GB           1996.0   \n",
      "5                                         Tetris       GB           1989.0   \n",
      "6                          New Super Mario Bros.       DS           2006.0   \n",
      "7                                       Wii Play      Wii           2006.0   \n",
      "8                      New Super Mario Bros. Wii      Wii           2009.0   \n",
      "9                                      Duck Hunt      NES           1984.0   \n",
      "10                                    Nintendogs       DS           2005.0   \n",
      "11                                 Mario Kart DS       DS           2005.0   \n",
      "12                   Pokemon Gold/Pokemon Silver       GB           1999.0   \n",
      "13                                       Wii Fit      Wii           2007.0   \n",
      "14                            Kinect Adventures!     X360           2010.0   \n",
      "15                                  Wii Fit Plus      Wii           2009.0   \n",
      "16                            Grand Theft Auto V      PS3           2013.0   \n",
      "17                 Grand Theft Auto: San Andreas      PS2           2004.0   \n",
      "18                             Super Mario World     SNES           1990.0   \n",
      "19  Brain Age: Train Your Brain in Minutes a Day       DS           2005.0   \n",
      "\n",
      "           genre  na_sales  eu_sales  jp_sales  other_sales  critic_score  \\\n",
      "0         Sports     41.36     28.96      3.77         8.45          76.0   \n",
      "1       Platform     29.08      3.58      6.81         0.77          71.0   \n",
      "2         Racing     15.68     12.76      3.79         3.29          82.0   \n",
      "3         Sports     15.61     10.93      3.28         2.95          80.0   \n",
      "4   Role-Playing     11.27      8.89     10.22         1.00          71.0   \n",
      "5         Puzzle     23.20      2.26      4.22         0.58          71.0   \n",
      "6       Platform     11.28      9.14      6.50         2.88          89.0   \n",
      "7           Misc     13.96      9.18      2.93         2.84          58.0   \n",
      "8       Platform     14.44      6.94      4.70         2.24          87.0   \n",
      "9        Shooter     26.93      0.63      0.28         0.47          71.0   \n",
      "10    Simulation      9.05     10.95      1.93         2.74          71.0   \n",
      "11        Racing      9.71      7.47      4.13         1.90          91.0   \n",
      "12  Role-Playing      9.00      6.18      7.20         0.71          71.0   \n",
      "13        Sports      8.92      8.03      3.60         2.15          80.0   \n",
      "14          Misc     15.00      4.89      0.24         1.69          61.0   \n",
      "15        Sports      9.01      8.49      2.53         1.77          80.0   \n",
      "16        Action      7.02      9.09      0.98         3.96          97.0   \n",
      "17        Action      9.43      0.40      0.41        10.57          95.0   \n",
      "18      Platform     12.78      3.75      3.54         0.55          71.0   \n",
      "19          Misc      4.74      9.20      4.16         2.04          77.0   \n",
      "\n",
      "    user_score rating  total_sales  \n",
      "0          8.0      E        82.54  \n",
      "1          7.5    TBD        40.24  \n",
      "2          8.3      E        35.52  \n",
      "3          8.0      E        32.77  \n",
      "4          7.5    TBD        31.38  \n",
      "5          7.5    TBD        30.26  \n",
      "6          8.5      E        29.80  \n",
      "7          6.6      E        28.91  \n",
      "8          8.4      E        28.32  \n",
      "9          7.5    TBD        28.31  \n",
      "10         7.5    TBD        24.67  \n",
      "11         8.6      E        23.21  \n",
      "12         7.5    TBD        23.09  \n",
      "13         7.7      E        22.70  \n",
      "14         6.3      E        21.82  \n",
      "15         7.4      E        21.80  \n",
      "16         8.2      M        21.05  \n",
      "17         9.0      M        20.81  \n",
      "18         7.5    TBD        20.62  \n",
      "19         7.9      E        20.14  \n"
     ]
    }
   ],
   "source": [
    "print(games.head(20))"
   ]
  },
  {
   "cell_type": "code",
   "execution_count": 15,
   "metadata": {},
   "outputs": [
    {
     "name": "stdout",
     "output_type": "stream",
     "text": [
      "[2006. 1985. 2008. 2009. 1996. 1989. 1984. 2005. 1999. 2007. 2010. 2013.\n",
      " 2004. 1990. 1988. 2002. 2001. 2011. 1998. 2015. 2012. 2014. 1992. 1997.\n",
      " 1993. 1994. 1982. 2016. 2003. 1986. 2000. 1995. 1991. 1981. 1987. 1980.\n",
      " 1983.]\n"
     ]
    }
   ],
   "source": [
    "print(games[\"year_of_release\"].unique())"
   ]
  },
  {
   "cell_type": "code",
   "execution_count": 16,
   "metadata": {},
   "outputs": [
    {
     "data": {
      "image/png": "[encoded data removed]",
      "text/plain": [
       "<Figure size 640x480 with 1 Axes>"
      ]
     },
     "metadata": {},
     "output_type": "display_data"
    }
   ],
   "source": [
    "release_per_year = games.groupby(\"year_of_release\")[\"name\"].count()\n",
    "\n",
    "release_per_year.plot(x=\"year_of_release\",\n",
    "                      title=\"numero de juegos lanzados por año\",\n",
    "                      xlabel=\"año de lanzamiento\",\n",
    "                      ylabel=\"cantidad de juegos\")\n",
    "plt.show()\n",
    "                      "
   ]
  },
  {
   "cell_type": "code",
   "execution_count": 17,
   "metadata": {},
   "outputs": [],
   "source": [
    "sales_per_plat = games.groupby(\"platform\")[\"total_sales\"].sum()\n",
    "sales_per_plat = sales_per_plat.sort_values(ascending=False)\n"
   ]
  },
  {
   "cell_type": "code",
   "execution_count": 18,
   "metadata": {},
   "outputs": [
    {
     "name": "stdout",
     "output_type": "stream",
     "text": [
      "platform\n",
      "PS2     1233.56\n",
      "X360     961.24\n",
      "PS3      931.34\n",
      "Wii      891.18\n",
      "DS       802.78\n",
      "PS       727.58\n",
      "PS4      314.14\n",
      "GBA      312.88\n",
      "PSP      289.53\n",
      "3DS      257.81\n",
      "PC       255.76\n",
      "GB       254.43\n",
      "XB       251.57\n",
      "NES      251.05\n",
      "N64      218.01\n",
      "SNES     200.04\n",
      "GC       196.73\n",
      "XOne     159.32\n",
      "2600      86.48\n",
      "WiiU      82.19\n",
      "PSV       53.81\n",
      "SAT       33.59\n",
      "GEN       30.77\n",
      "DC        15.95\n",
      "SCD        1.86\n",
      "NG         1.44\n",
      "WS         1.42\n",
      "TG16       0.16\n",
      "3DO        0.10\n",
      "GG         0.04\n",
      "PCFX       0.03\n",
      "Name: total_sales, dtype: float64\n"
     ]
    }
   ],
   "source": [
    "print(sales_per_plat)"
   ]
  },
  {
   "cell_type": "markdown",
   "metadata": {},
   "source": [
    "En ventas totales, el top 10 de plataformas son ps2, xbox 360, ps3, wii, nintendo ds, ps, ps4, gba, psp y nintendo 3ds. "
   ]
  },
  {
   "cell_type": "code",
   "execution_count": 19,
   "metadata": {},
   "outputs": [
    {
     "name": "stdout",
     "output_type": "stream",
     "text": [
      "platform\n",
      "PS2     1233.56\n",
      "X360     961.24\n",
      "PS3      931.34\n",
      "Wii      891.18\n",
      "DS       802.78\n",
      "PS       727.58\n",
      "PS4      314.14\n",
      "GBA      312.88\n",
      "PSP      289.53\n",
      "3DS      257.81\n",
      "Name: total_sales, dtype: float64\n"
     ]
    }
   ],
   "source": [
    "print(sales_per_plat.head(10))"
   ]
  },
  {
   "cell_type": "markdown",
   "metadata": {},
   "source": [
    "Paso 3, ejercicio 1 "
   ]
  },
  {
   "cell_type": "code",
   "execution_count": 20,
   "metadata": {
    "scrolled": true
   },
   "outputs": [
    {
     "data": {
      "image/png": "[encoded data removed]",
      "text/plain": [
       "<Figure size 640x480 with 1 Axes>"
      ]
     },
     "metadata": {},
     "output_type": "display_data"
    }
   ],
   "source": [
    "sales_per_year = games.groupby([\"platform\", \"year_of_release\"])[\"total_sales\"].sum()\n",
    "sales_per_year = sales_per_year.sort_values(ascending=False).head(10)\n",
    "sales_per_year.plot(kind=\"bar\",\n",
    "                   xlabel=\"año de lanzamiento\",\n",
    "                   ylabel=\"ventas totales\",\n",
    "                   title=\"evolucion de ventas por plataforma\")\n",
    "plt.show()"
   ]
  },
  {
   "cell_type": "markdown",
   "metadata": {},
   "source": [
    "Paso 3, ejercicio 2 "
   ]
  },
  {
   "cell_type": "code",
   "execution_count": 24,
   "metadata": {},
   "outputs": [
    {
     "data": {
      "text/html": [
       "<div>\n",
       "<style scoped>\n",
       "    .dataframe tbody tr th:only-of-type {\n",
       "        vertical-align: middle;\n",
       "    }\n",
       "\n",
       "    .dataframe tbody tr th {\n",
       "        vertical-align: top;\n",
       "    }\n",
       "\n",
       "    .dataframe thead th {\n",
       "        text-align: right;\n",
       "    }\n",
       "</style>\n",
       "<table border=\"1\" class=\"dataframe\">\n",
       "  <thead>\n",
       "    <tr style=\"text-align: right;\">\n",
       "      <th></th>\n",
       "      <th>platform</th>\n",
       "      <th>min</th>\n",
       "      <th>max</th>\n",
       "      <th>dif</th>\n",
       "    </tr>\n",
       "  </thead>\n",
       "  <tbody>\n",
       "    <tr>\n",
       "      <th>0</th>\n",
       "      <td>2600</td>\n",
       "      <td>1980.0</td>\n",
       "      <td>1989.0</td>\n",
       "      <td>9.0</td>\n",
       "    </tr>\n",
       "    <tr>\n",
       "      <th>1</th>\n",
       "      <td>3DO</td>\n",
       "      <td>1994.0</td>\n",
       "      <td>1995.0</td>\n",
       "      <td>1.0</td>\n",
       "    </tr>\n",
       "    <tr>\n",
       "      <th>2</th>\n",
       "      <td>3DS</td>\n",
       "      <td>2011.0</td>\n",
       "      <td>2016.0</td>\n",
       "      <td>5.0</td>\n",
       "    </tr>\n",
       "    <tr>\n",
       "      <th>3</th>\n",
       "      <td>DC</td>\n",
       "      <td>1998.0</td>\n",
       "      <td>2008.0</td>\n",
       "      <td>10.0</td>\n",
       "    </tr>\n",
       "    <tr>\n",
       "      <th>4</th>\n",
       "      <td>DS</td>\n",
       "      <td>1985.0</td>\n",
       "      <td>2013.0</td>\n",
       "      <td>28.0</td>\n",
       "    </tr>\n",
       "  </tbody>\n",
       "</table>\n",
       "</div>"
      ],
      "text/plain": [
       "  platform     min     max   dif\n",
       "0     2600  1980.0  1989.0   9.0\n",
       "1      3DO  1994.0  1995.0   1.0\n",
       "2      3DS  2011.0  2016.0   5.0\n",
       "3       DC  1998.0  2008.0  10.0\n",
       "4       DS  1985.0  2013.0  28.0"
      ]
     },
     "execution_count": 24,
     "metadata": {},
     "output_type": "execute_result"
    }
   ],
   "source": [
    "x = games.groupby(\"platform\")[\"year_of_release\"].agg([\"min\", \"max\"]).reset_index()\n",
    "x[\"dif\"] = x[\"max\"] - x[\"min\"]\n",
    "\n",
    "x.head()\n"
   ]
  },
  {
   "cell_type": "code",
   "execution_count": 21,
   "metadata": {},
   "outputs": [
    {
     "name": "stdout",
     "output_type": "stream",
     "text": [
      "          first_year  last_year  lifespan\n",
      "platform                                 \n",
      "GG            1992.0     1992.0       0.0\n",
      "PCFX          1996.0     1996.0       0.0\n",
      "TG16          1995.0     1995.0       0.0\n",
      "3DO           1994.0     1995.0       1.0\n",
      "SCD           1993.0     1994.0       1.0\n",
      "WS            1999.0     2001.0       2.0\n",
      "NG            1993.0     1996.0       3.0\n",
      "XOne          2013.0     2016.0       3.0\n",
      "PS4           2013.0     2016.0       3.0\n",
      "GEN           1990.0     1994.0       4.0\n",
      "WiiU          2012.0     2016.0       4.0\n",
      "PSV           2011.0     2016.0       5.0\n",
      "3DS           2011.0     2016.0       5.0\n",
      "SAT           1994.0     1999.0       5.0\n",
      "N64           1996.0     2002.0       6.0\n",
      "GC            2001.0     2007.0       6.0\n",
      "GBA           2000.0     2007.0       7.0\n",
      "XB            2000.0     2008.0       8.0\n",
      "SNES          1990.0     1999.0       9.0\n",
      "2600          1980.0     1989.0       9.0\n",
      "PS            1994.0     2003.0       9.0\n",
      "PS3           2006.0     2016.0      10.0\n",
      "Wii           2006.0     2016.0      10.0\n",
      "DC            1998.0     2008.0      10.0\n",
      "PS2           2000.0     2011.0      11.0\n",
      "NES           1983.0     1994.0      11.0\n",
      "X360          2005.0     2016.0      11.0\n",
      "PSP           2004.0     2015.0      11.0\n",
      "GB            1988.0     2001.0      13.0\n",
      "DS            1985.0     2013.0      28.0\n",
      "PC            1985.0     2016.0      31.0\n"
     ]
    }
   ],
   "source": [
    "first_year_sale = games.groupby(\"platform\")[\"year_of_release\"].min()\n",
    "last_year_sale = games.groupby(\"platform\")[\"year_of_release\"].max()\n",
    "platform_life = pd.DataFrame({\"first_year\": first_year_sale, \"last_year\": last_year_sale})\n",
    "platform_life[\"lifespan\"] = platform_life[\"last_year\"] - platform_life[\"first_year\"]\n",
    "\n",
    "print(platform_life.sort_values(\"lifespan\", ascending=True))\n"
   ]
  },
  {
   "cell_type": "markdown",
   "metadata": {},
   "source": [
    "Se pueden observar las plataformas que no tuvieron exito en las ventas de manera continua. Por ejemplo GG, PCFX TG16 solo tuvieron ventas en el año en el que fueron lanzados. En contraste, PC lleva 31 años con ventas continuas. Con base en estos resultados, se tomaran en cuenta las consolas que han tenido ventas en los últimos 10 años. La industria de los videojuegos es muy cambiante y cada año salen nuevas tecnologías. Esta es la razon de elegir 10 años. "
   ]
  },
  {
   "cell_type": "markdown",
   "metadata": {},
   "source": [
    "Paso 3, ejercicio 3"
   ]
  },
  {
   "cell_type": "code",
   "execution_count": 22,
   "metadata": {
    "scrolled": true
   },
   "outputs": [
    {
     "data": {
      "image/png": "[encoded data removed]",
      "text/plain": [
       "<Figure size 640x480 with 1 Axes>"
      ]
     },
     "metadata": {},
     "output_type": "display_data"
    }
   ],
   "source": [
    "filt_games = games[(games[\"year_of_release\"] >= 2006) & (games[\"year_of_release\"] <= 2016)]\n",
    "sales_2006_2016 = filt_games.groupby(\"platform\")[\"total_sales\"].sum().sort_values(ascending=False)\n",
    "\n",
    "sales_2006_2016.plot(kind=\"bar\",\n",
    "                    xlabel=\"plataforma\",\n",
    "                    ylabel=\"año\",\n",
    "                    title=\"ventas 2006 a 2016\")\n",
    "plt.show()\n"
   ]
  },
  {
   "cell_type": "code",
   "execution_count": 23,
   "metadata": {},
   "outputs": [
    {
     "data": {
      "image/png": "[encoded data removed]",
      "text/plain": [
       "<Figure size 640x480 with 1 Axes>"
      ]
     },
     "metadata": {},
     "output_type": "display_data"
    }
   ],
   "source": [
    "sns.boxplot(data=sales_2006_2016)\n",
    "plt.title(\"ventas por plataforma del 2006 al 2016\")\n",
    "plt.xlabel(\"plataforma\")\n",
    "plt.ylabel(\"año\")\n",
    "plt.show()"
   ]
  },
  {
   "cell_type": "markdown",
   "metadata": {},
   "source": [
    "Se puede observar que la media de ventas entre 2006 y 2016 es de 200 millones. El 75% de las plataformas ha registrado ventas entre 50 y 400 millones de pesos. "
   ]
  },
  {
   "cell_type": "markdown",
   "metadata": {},
   "source": [
    "Paso 3, ejercicio 4"
   ]
  },
  {
   "cell_type": "code",
   "execution_count": 24,
   "metadata": {},
   "outputs": [
    {
     "data": {
      "image/png": "[encoded data removed]",
      "text/plain": [
       "<Figure size 640x480 with 1 Axes>"
      ]
     },
     "metadata": {},
     "output_type": "display_data"
    },
    {
     "name": "stdout",
     "output_type": "stream",
     "text": [
      "La correlacion entre reseñas de criticos y ventas es: 0.3606494835478315\n"
     ]
    }
   ],
   "source": [
    "xbox_games = games[games[\"platform\"] == \"X360\"]\n",
    "\n",
    "xbox_games.plot(kind=\"scatter\",\n",
    "               x=\"critic_score\",\n",
    "               y=\"total_sales\",\n",
    "               title=\"Reseñas de profesionales vs ventas X360\",\n",
    "               xlabel=\"reseñas de criticos\",\n",
    "               ylabel=\"ventas\")\n",
    "\n",
    "plt.show()\n",
    "\n",
    "correlation_critic = xbox_games[\"critic_score\"].corr(xbox_games[\"total_sales\"])\n",
    "print(\"La correlacion entre reseñas de criticos y ventas es:\", correlation_critic)\n"
   ]
  },
  {
   "cell_type": "markdown",
   "metadata": {},
   "source": [
    "Para las reseñas de los criticos en el Xbox 360, mientras mejor es la reseña, mas ventas hay. Sin embargo, le relacion entre las dos variables no es tan fuerte. "
   ]
  },
  {
   "cell_type": "code",
   "execution_count": 25,
   "metadata": {},
   "outputs": [
    {
     "data": {
      "image/png": "[encoded data removed]",
      "text/plain": [
       "<Figure size 640x480 with 1 Axes>"
      ]
     },
     "metadata": {},
     "output_type": "display_data"
    },
    {
     "name": "stdout",
     "output_type": "stream",
     "text": [
      "La correlacion entre reseñas de usuario y ventas es: 0.3606494835478315\n"
     ]
    }
   ],
   "source": [
    "xbox_games.plot(kind=\"scatter\",\n",
    "               x=\"user_score\",\n",
    "               y=\"total_sales\",\n",
    "               title=\"Reseñas de profesionales vs ventas X360\",\n",
    "               xlabel=\"reseñas de usuario\",\n",
    "               ylabel=\"ventas\")\n",
    "\n",
    "plt.show()\n",
    "\n",
    "correlation_user = xbox_games[\"user_score\"].corr(xbox_games[\"total_sales\"])\n",
    "print(\"La correlacion entre reseñas de usuario y ventas es:\", correlation_critic)"
   ]
  },
  {
   "cell_type": "markdown",
   "metadata": {},
   "source": [
    "En el caso de las reseñas de los usuarios, el compartamiento es parecido. Mientras mejor es la reseña, mayor es la venta. De la misma forma, la relacion entre las dos variables no estan fuerte "
   ]
  },
  {
   "cell_type": "markdown",
   "metadata": {},
   "source": [
    "Paso 3, ejercicio 5 "
   ]
  },
  {
   "cell_type": "code",
   "execution_count": 26,
   "metadata": {},
   "outputs": [
    {
     "name": "stdout",
     "output_type": "stream",
     "text": [
      "  platform  total_sales\n",
      "0       PC         0.97\n",
      "1      PS2        20.81\n",
      "2     X360         0.11\n",
      "3       XB         1.96\n"
     ]
    }
   ],
   "source": [
    "gta = games[games[\"name\"] == \"Grand Theft Auto: San Andreas\"]\n",
    "\n",
    "gta_sales = gta.groupby(\"platform\")[\"total_sales\"].sum().reset_index()\n",
    "\n",
    "print(gta_sales)"
   ]
  },
  {
   "cell_type": "code",
   "execution_count": 27,
   "metadata": {},
   "outputs": [
    {
     "data": {
      "image/png": "[encoded data removed]",
      "text/plain": [
       "<Figure size 640x480 with 1 Axes>"
      ]
     },
     "metadata": {},
     "output_type": "display_data"
    }
   ],
   "source": [
    "gta_sales.plot(kind=\"bar\",\n",
    "              title=\"Ventas de GTA por plataforma\",\n",
    "              xlabel=\"plataforma\",\n",
    "              ylabel=\"ventas\")\n",
    "\n",
    "plt.legend([\"platform\"])\n",
    "\n",
    "plt.show()"
   ]
  },
  {
   "cell_type": "markdown",
   "metadata": {},
   "source": [
    "Se puede observar que GTA San Andreas tiene una plataforma estrella, el PS2 donde se han registrado la mayor cantidad de ventas globales desde que el juego se lanzó. Despues, sigue el xbox. El PS2 se registraron 20 millones de ventas y en xbox 2.5 millones."
   ]
  },
  {
   "cell_type": "markdown",
   "metadata": {},
   "source": [
    "Paso 3, ejercio 6 "
   ]
  },
  {
   "cell_type": "code",
   "execution_count": 28,
   "metadata": {},
   "outputs": [
    {
     "name": "stdout",
     "output_type": "stream",
     "text": [
      "           genre  total_sales\n",
      "0         Action      1716.52\n",
      "1      Adventure       233.33\n",
      "2       Fighting       442.66\n",
      "3           Misc       790.29\n",
      "4       Platform       825.55\n",
      "5         Puzzle       239.89\n",
      "6         Racing       723.49\n",
      "7   Role-Playing       931.08\n",
      "8        Shooter      1041.36\n",
      "9     Simulation       387.96\n",
      "10        Sports      1309.67\n",
      "11      Strategy       172.57\n"
     ]
    }
   ],
   "source": [
    "sales_per_genre = games.groupby(\"genre\")[\"total_sales\"].sum().reset_index()\n",
    "print(sales_per_genre)"
   ]
  },
  {
   "cell_type": "code",
   "execution_count": 29,
   "metadata": {
    "scrolled": true
   },
   "outputs": [
    {
     "data": {
      "image/png": "[encoded data removed]",
      "text/plain": [
       "<Figure size 640x480 with 1 Axes>"
      ]
     },
     "metadata": {},
     "output_type": "display_data"
    }
   ],
   "source": [
    "sales_per_genre.plot(kind=\"bar\",\n",
    "                    title=\"distribucion de juegos por genero\",\n",
    "                    ylabel=\"ventas\",\n",
    "                    xlabel=\"genero\")\n",
    "\n",
    "\n",
    "plt.show()"
   ]
  },
  {
   "cell_type": "markdown",
   "metadata": {},
   "source": [
    "Como se puede observar, que el genero que mas ha tenido ventas es accion seguido de deportes."
   ]
  },
  {
   "cell_type": "markdown",
   "metadata": {},
   "source": [
    "Paso 4, ejercio 1"
   ]
  },
  {
   "cell_type": "code",
   "execution_count": 30,
   "metadata": {},
   "outputs": [],
   "source": [
    "top_platforms_na = games.groupby(\"platform\")[\"na_sales\"].sum().sort_values(ascending=False).head(5)\n",
    "top_platforms_eu = games.groupby(\"platform\")[\"eu_sales\"].sum().sort_values(ascending=False).head(5)\n",
    "top_platforms_jp = games.groupby(\"platform\")[\"jp_sales\"].sum().sort_values(ascending=False).head(5)"
   ]
  },
  {
   "cell_type": "code",
   "execution_count": 31,
   "metadata": {},
   "outputs": [
    {
     "name": "stdout",
     "output_type": "stream",
     "text": [
      "Top 5 plataformas en NA: platform\n",
      "X360    595.74\n",
      "PS2     572.92\n",
      "Wii     486.87\n",
      "PS3     390.13\n",
      "DS      380.31\n",
      "Name: na_sales, dtype: float64\n",
      "Top 5 plataformas en EU: platform\n",
      "PS2     332.63\n",
      "PS3     327.21\n",
      "X360    268.32\n",
      "Wii     258.32\n",
      "PS      212.39\n",
      "Name: eu_sales, dtype: float64\n",
      "Top 5 plataformas en JP: platform\n",
      "DS      175.02\n",
      "PS      139.78\n",
      "PS2     137.54\n",
      "SNES    116.55\n",
      "3DS     100.62\n",
      "Name: jp_sales, dtype: float64\n"
     ]
    }
   ],
   "source": [
    "print(\"Top 5 plataformas en NA:\", top_platforms_na)\n",
    "print(\"Top 5 plataformas en EU:\", top_platforms_eu)\n",
    "print(\"Top 5 plataformas en JP:\", top_platforms_jp)"
   ]
  },
  {
   "cell_type": "markdown",
   "metadata": {},
   "source": [
    "Se puede concluir que NA y EU comparten plataformas, sus gustos son similares en cuanto a la consola que ocupar para jugar. Japon, por otro lado, prefiere mas los productos de Nintendo y Playstation"
   ]
  },
  {
   "cell_type": "code",
   "execution_count": 32,
   "metadata": {},
   "outputs": [],
   "source": [
    "top_genre_na = games.groupby(\"genre\")[\"na_sales\"].sum().sort_values(ascending=False).head(5)\n",
    "top_genre_eu = games.groupby(\"genre\")[\"eu_sales\"].sum().sort_values(ascending=False).head(5)\n",
    "top_genre_jp = games.groupby(\"genre\")[\"jp_sales\"].sum().sort_values(ascending=False).head(5)"
   ]
  },
  {
   "cell_type": "code",
   "execution_count": 33,
   "metadata": {},
   "outputs": [
    {
     "name": "stdout",
     "output_type": "stream",
     "text": [
      "Top 5 generos en NA: genre\n",
      "Action      863.17\n",
      "Sports      671.20\n",
      "Shooter     584.83\n",
      "Platform    444.44\n",
      "Misc        399.57\n",
      "Name: na_sales, dtype: float64\n",
      "Top 5 generos en EU: genre\n",
      "Action     510.99\n",
      "Sports     371.33\n",
      "Shooter    314.52\n",
      "Racing     234.49\n",
      "Misc       210.60\n",
      "Name: eu_sales, dtype: float64\n",
      "Top 5 generos en JP: genre\n",
      "Role-Playing    353.39\n",
      "Action          160.14\n",
      "Sports          134.93\n",
      "Platform        130.71\n",
      "Misc            107.02\n",
      "Name: jp_sales, dtype: float64\n"
     ]
    }
   ],
   "source": [
    "print(\"Top 5 generos en NA:\", top_genre_na)\n",
    "print(\"Top 5 generos en EU:\", top_genre_eu)\n",
    "print(\"Top 5 generos en JP:\", top_genre_jp)"
   ]
  },
  {
   "cell_type": "markdown",
   "metadata": {},
   "source": [
    "A lo largo de las tres regiones, el genero de accion es un comun denominador. En el caso de NA y EU, es es genero con mas ventas; para Japon, ocupa el segun lugar. Japon  tiene una mayor inclinacion por juegos de rol. "
   ]
  },
  {
   "cell_type": "code",
   "execution_count": 34,
   "metadata": {},
   "outputs": [],
   "source": [
    "esrb_na = games.groupby(\"rating\")[\"na_sales\"].sum().sort_values(ascending=False).head(5)\n",
    "esrb_eu = games.groupby(\"rating\")[\"eu_sales\"].sum().sort_values(ascending=False).head(5)\n",
    "esrb_jp = games.groupby(\"rating\")[\"jp_sales\"].sum().sort_values(ascending=False).head(5)"
   ]
  },
  {
   "cell_type": "code",
   "execution_count": 35,
   "metadata": {},
   "outputs": [
    {
     "name": "stdout",
     "output_type": "stream",
     "text": [
      "Ventas por clasificacion ESRB en NA: rating\n",
      "E       1274.24\n",
      "TBD     1227.62\n",
      "T        747.60\n",
      "M        742.89\n",
      "E10+     345.50\n",
      "Name: na_sales, dtype: float64\n",
      "Ventas por clasificacion ESRB en EU: rating\n",
      "E       703.87\n",
      "TBD     610.18\n",
      "M       480.00\n",
      "T       421.79\n",
      "E10+    183.35\n",
      "Name: eu_sales, dtype: float64\n",
      "Ventas por clasificacion ESRB en JP: rating\n",
      "TBD     836.77\n",
      "E       197.96\n",
      "T       150.70\n",
      "M        63.58\n",
      "E10+     40.20\n",
      "Name: jp_sales, dtype: float64\n"
     ]
    }
   ],
   "source": [
    "print(\"Ventas por clasificacion ESRB en NA:\", esrb_na)\n",
    "print(\"Ventas por clasificacion ESRB en EU:\", esrb_eu)\n",
    "print(\"Ventas por clasificacion ESRB en JP:\", esrb_jp)"
   ]
  },
  {
   "cell_type": "markdown",
   "metadata": {},
   "source": [
    "Es interesante ver como los juegos que aun no se clasifican, generan ventas. En el caso de JP, ocupa el puesto numero uno. Por otro lado, los juegos clasificados como E10+ son lo que menos ventas generan en las tres regiones "
   ]
  },
  {
   "cell_type": "markdown",
   "metadata": {},
   "source": [
    "Paso 5, ejercicio 1"
   ]
  },
  {
   "cell_type": "markdown",
   "metadata": {},
   "source": [
    "Hipotesis cero: la media de calificaciones entre XONE y PC no son diferentes \n",
    "Hipotesis alternativa: la media de calificaciones entre XONE y PC son diferentes "
   ]
  },
  {
   "cell_type": "code",
   "execution_count": 36,
   "metadata": {},
   "outputs": [
    {
     "name": "stdout",
     "output_type": "stream",
     "text": [
      "['Wii' 'NES' 'GB' 'DS' 'X360' 'PS3' 'PS2' 'SNES' 'GBA' 'PS4' '3DS' 'N64'\n",
      " 'PS' 'XB' 'PC' '2600' 'PSP' 'XOne' 'WiiU' 'GC' 'GEN' 'DC' 'PSV' 'SAT'\n",
      " 'SCD' 'WS' 'NG' 'TG16' '3DO' 'GG' 'PCFX']\n"
     ]
    }
   ],
   "source": [
    "print(games[\"platform\"].unique())"
   ]
  },
  {
   "cell_type": "code",
   "execution_count": 47,
   "metadata": {},
   "outputs": [],
   "source": [
    "xbox_rating = games[games[\"platform\"] == \"XOne\"][\"user_score\"]\n",
    "pc_rating = games[games[\"platform\"] == \"PC\"][\"user_score\"]"
   ]
  },
  {
   "cell_type": "code",
   "execution_count": 49,
   "metadata": {},
   "outputs": [
    {
     "name": "stdout",
     "output_type": "stream",
     "text": [
      "99       7.5\n",
      "165      7.9\n",
      "179      5.4\n",
      "242      6.4\n",
      "270      6.2\n",
      "        ... \n",
      "16630    8.2\n",
      "16643    6.6\n",
      "16645    7.5\n",
      "16660    6.7\n",
      "16672    7.5\n",
      "Name: user_score, Length: 247, dtype: float64\n",
      "0\n"
     ]
    }
   ],
   "source": [
    "print(xbox_rating)\n",
    "print(xbox_rating.isnull().sum())"
   ]
  },
  {
   "cell_type": "code",
   "execution_count": 50,
   "metadata": {},
   "outputs": [
    {
     "name": "stdout",
     "output_type": "stream",
     "text": [
      "valor p: 9.043321920431166e-05\n",
      "Rechazamos la hipótesis nula\n"
     ]
    }
   ],
   "source": [
    "alpha = 0.05 \n",
    "\n",
    "result = st.ttest_ind(xbox_rating, pc_rating)\n",
    "\n",
    "print('valor p:', result.pvalue)\n",
    "\n",
    "if (result.pvalue < alpha):\n",
    "    print(\"Rechazamos la hipótesis nula\")\n",
    "else:\n",
    "    print(\"No podemos rechazar la hipótesis nula\")"
   ]
  },
  {
   "cell_type": "code",
   "execution_count": 39,
   "metadata": {},
   "outputs": [
    {
     "name": "stdout",
     "output_type": "stream",
     "text": [
      "['Sports' 'Platform' 'Racing' 'Role-Playing' 'Puzzle' 'Misc' 'Shooter'\n",
      " 'Simulation' 'Action' 'Fighting' 'Adventure' 'Strategy' nan]\n"
     ]
    }
   ],
   "source": [
    "print(games[\"genre\"].unique())"
   ]
  },
  {
   "cell_type": "code",
   "execution_count": 51,
   "metadata": {},
   "outputs": [],
   "source": [
    "act_rating = games[games[\"genre\"] == \"Action\"][\"user_score\"]\n",
    "spt_rating = games[games[\"genre\"] == \"Sports\"][\"user_score\"]"
   ]
  },
  {
   "cell_type": "code",
   "execution_count": 52,
   "metadata": {},
   "outputs": [
    {
     "name": "stdout",
     "output_type": "stream",
     "text": [
      "valor p: 0.5653256242787754\n",
      "No podemos rechazar la hipótesis nula\n"
     ]
    }
   ],
   "source": [
    "alpha = 0.05 \n",
    "\n",
    "result = st.ttest_ind(act_rating, spt_rating)\n",
    "\n",
    "print('valor p:', result.pvalue)\n",
    "\n",
    "if (result.pvalue < alpha):\n",
    "    print(\"Rechazamos la hipótesis nula\")\n",
    "else:\n",
    "    print(\"No podemos rechazar la hipótesis nula\")"
   ]
  },
  {
   "cell_type": "markdown",
   "metadata": {},
   "source": [
    "Como conclusion en general, las regiones de NA y EU comparten gustos similares. Esto se puede observar en las plataformas que mas ventas han registrado ventas. De igual forma, los generos en relación a ventas totales son similares en las tres regiones; accion es el que se encuentra en los primeros lugares. Se delimito un periodo de 2006 a 2016 para estudiar a mayor detalle las ventas, esto porque un periodo de 10 años demuestra la solidez, o no, de una plataforma a lo largo del tiempo. En ese espacio de tiempo, las ventas promedio fueron de 200 millones de pesos por plataforma. \n",
    "Por otro lado, las ratings de usuarios y criticos tienen un efecto positivo en las ventas, sin embargo su impacto no es muy grande. \n",
    "Por ultimo, se estudió las calificaciones entre PC y Xbox, se determinó que la media de calificaciones son diferentes, es decir que los juegos han tenido un diferente impacto. \n",
    "Se hizo lo mismo para los generos de accion y deportes, donde se determinó que no se puede rechazar la hipotesis nula. "
   ]
  }
 ],
 "metadata": {
  "ExecuteTimeLog": [
   {
    "duration": 343,
    "start_time": "2025-02-12T01:59:37.420Z"
   },
   {
    "duration": 203,
    "start_time": "2025-02-12T02:00:27.939Z"
   },
   {
    "duration": 49,
    "start_time": "2025-02-12T02:00:40.288Z"
   },
   {
    "duration": 13,
    "start_time": "2025-02-12T02:01:09.205Z"
   },
   {
    "duration": 10,
    "start_time": "2025-02-12T02:01:20.456Z"
   },
   {
    "duration": 20,
    "start_time": "2025-02-12T02:02:01.608Z"
   },
   {
    "duration": 7,
    "start_time": "2025-02-12T02:02:36.897Z"
   },
   {
    "duration": 14,
    "start_time": "2025-02-12T02:04:24.753Z"
   },
   {
    "duration": 6,
    "start_time": "2025-02-12T02:04:55.947Z"
   },
   {
    "duration": 15,
    "start_time": "2025-02-12T02:05:43.073Z"
   },
   {
    "duration": 10,
    "start_time": "2025-02-12T02:08:14.952Z"
   },
   {
    "duration": 12,
    "start_time": "2025-02-12T02:08:22.314Z"
   },
   {
    "duration": 7,
    "start_time": "2025-02-12T02:08:33.262Z"
   },
   {
    "duration": 5,
    "start_time": "2025-02-12T02:16:43.454Z"
   },
   {
    "duration": 8,
    "start_time": "2025-02-12T02:23:23.325Z"
   },
   {
    "duration": 327,
    "start_time": "2025-02-13T01:05:57.437Z"
   },
   {
    "duration": 35,
    "start_time": "2025-02-13T01:05:57.767Z"
   },
   {
    "duration": 11,
    "start_time": "2025-02-13T01:05:57.804Z"
   },
   {
    "duration": 7,
    "start_time": "2025-02-13T01:05:57.817Z"
   },
   {
    "duration": 7,
    "start_time": "2025-02-13T01:05:57.827Z"
   },
   {
    "duration": 8,
    "start_time": "2025-02-13T01:08:57.345Z"
   },
   {
    "duration": 5,
    "start_time": "2025-02-13T01:10:04.422Z"
   },
   {
    "duration": 3,
    "start_time": "2025-02-13T01:14:33.862Z"
   },
   {
    "duration": 6,
    "start_time": "2025-02-13T01:14:34.402Z"
   },
   {
    "duration": 5,
    "start_time": "2025-02-13T01:14:37.270Z"
   },
   {
    "duration": 658,
    "start_time": "2025-02-13T01:14:37.987Z"
   },
   {
    "duration": 0,
    "start_time": "2025-02-13T01:14:38.647Z"
   },
   {
    "duration": 4,
    "start_time": "2025-02-13T01:14:50.395Z"
   },
   {
    "duration": 4,
    "start_time": "2025-02-13T01:17:10.811Z"
   },
   {
    "duration": 3,
    "start_time": "2025-02-13T01:20:16.697Z"
   },
   {
    "duration": 4,
    "start_time": "2025-02-13T01:20:17.214Z"
   },
   {
    "duration": 4,
    "start_time": "2025-02-13T01:20:18.959Z"
   },
   {
    "duration": 13,
    "start_time": "2025-02-13T01:20:20.016Z"
   },
   {
    "duration": 3,
    "start_time": "2025-02-13T01:20:36.695Z"
   },
   {
    "duration": 7,
    "start_time": "2025-02-13T01:20:41.484Z"
   },
   {
    "duration": 5,
    "start_time": "2025-02-13T01:20:48.500Z"
   },
   {
    "duration": 4,
    "start_time": "2025-02-13T01:20:49.054Z"
   },
   {
    "duration": 4,
    "start_time": "2025-02-13T01:24:44.115Z"
   },
   {
    "duration": 12,
    "start_time": "2025-02-13T01:24:44.604Z"
   },
   {
    "duration": 4,
    "start_time": "2025-02-13T01:24:45.064Z"
   },
   {
    "duration": 5,
    "start_time": "2025-02-13T01:24:45.611Z"
   },
   {
    "duration": 4,
    "start_time": "2025-02-13T01:24:46.152Z"
   },
   {
    "duration": 4,
    "start_time": "2025-02-13T01:24:46.765Z"
   },
   {
    "duration": 3,
    "start_time": "2025-02-13T01:28:25.313Z"
   },
   {
    "duration": 5,
    "start_time": "2025-02-13T01:28:25.732Z"
   },
   {
    "duration": 14,
    "start_time": "2025-02-13T01:28:26.129Z"
   },
   {
    "duration": 19,
    "start_time": "2025-02-13T01:28:26.494Z"
   },
   {
    "duration": 13,
    "start_time": "2025-02-13T01:32:07.804Z"
   },
   {
    "duration": 17,
    "start_time": "2025-02-13T01:34:53.589Z"
   },
   {
    "duration": 16,
    "start_time": "2025-02-13T01:35:28.830Z"
   },
   {
    "duration": 17,
    "start_time": "2025-02-13T01:36:52.799Z"
   },
   {
    "duration": 23,
    "start_time": "2025-02-13T01:37:02.269Z"
   },
   {
    "duration": 10,
    "start_time": "2025-02-13T01:37:03.037Z"
   },
   {
    "duration": 3,
    "start_time": "2025-02-13T01:37:07.401Z"
   },
   {
    "duration": 7,
    "start_time": "2025-02-13T01:37:10.067Z"
   },
   {
    "duration": 8,
    "start_time": "2025-02-13T01:37:10.724Z"
   },
   {
    "duration": 13,
    "start_time": "2025-02-13T01:37:12.129Z"
   },
   {
    "duration": 9,
    "start_time": "2025-02-13T01:37:16.272Z"
   },
   {
    "duration": 3,
    "start_time": "2025-02-13T01:37:17.815Z"
   },
   {
    "duration": 3,
    "start_time": "2025-02-13T01:37:41.408Z"
   },
   {
    "duration": 7,
    "start_time": "2025-02-13T01:38:41.561Z"
   },
   {
    "duration": 3,
    "start_time": "2025-02-13T01:38:42.483Z"
   },
   {
    "duration": 6,
    "start_time": "2025-02-13T01:43:08.967Z"
   },
   {
    "duration": 5,
    "start_time": "2025-02-13T01:48:43.244Z"
   },
   {
    "duration": 1870,
    "start_time": "2025-02-13T01:49:59.679Z"
   },
   {
    "duration": 25,
    "start_time": "2025-02-13T01:53:30.553Z"
   },
   {
    "duration": 15,
    "start_time": "2025-02-13T01:53:37.500Z"
   },
   {
    "duration": 343,
    "start_time": "2025-02-13T01:53:45.217Z"
   },
   {
    "duration": 3,
    "start_time": "2025-02-13T01:54:46.322Z"
   },
   {
    "duration": 9,
    "start_time": "2025-02-13T01:55:10.762Z"
   },
   {
    "duration": 3,
    "start_time": "2025-02-13T01:55:13.294Z"
   },
   {
    "duration": 7,
    "start_time": "2025-02-13T01:57:24.579Z"
   },
   {
    "duration": 3,
    "start_time": "2025-02-13T02:01:43.731Z"
   },
   {
    "duration": 3,
    "start_time": "2025-02-13T02:01:55.484Z"
   },
   {
    "duration": 14,
    "start_time": "2025-02-13T02:02:05.707Z"
   },
   {
    "duration": 2,
    "start_time": "2025-02-13T02:02:59.637Z"
   },
   {
    "duration": 3,
    "start_time": "2025-02-13T02:03:08.032Z"
   },
   {
    "duration": 12,
    "start_time": "2025-02-13T02:03:38.440Z"
   },
   {
    "duration": 5,
    "start_time": "2025-02-13T02:04:05.364Z"
   },
   {
    "duration": 4,
    "start_time": "2025-02-13T02:04:06.002Z"
   },
   {
    "duration": 4,
    "start_time": "2025-02-13T02:07:57.808Z"
   },
   {
    "duration": 90,
    "start_time": "2025-02-13T02:15:34.744Z"
   },
   {
    "duration": 115,
    "start_time": "2025-02-13T02:16:44.670Z"
   },
   {
    "duration": 10,
    "start_time": "2025-02-13T02:21:54.735Z"
   },
   {
    "duration": 12,
    "start_time": "2025-02-13T02:22:19.006Z"
   },
   {
    "duration": 9,
    "start_time": "2025-02-13T02:23:24.403Z"
   },
   {
    "duration": 9,
    "start_time": "2025-02-13T02:23:25.182Z"
   },
   {
    "duration": 5,
    "start_time": "2025-02-13T02:23:26.547Z"
   },
   {
    "duration": 6,
    "start_time": "2025-02-13T02:24:12.385Z"
   },
   {
    "duration": 6,
    "start_time": "2025-02-13T02:24:12.971Z"
   },
   {
    "duration": 5,
    "start_time": "2025-02-13T02:24:13.568Z"
   },
   {
    "duration": 3,
    "start_time": "2025-02-13T02:24:16.678Z"
   },
   {
    "duration": 4,
    "start_time": "2025-02-13T02:24:18.574Z"
   },
   {
    "duration": 3,
    "start_time": "2025-02-13T02:24:19.470Z"
   },
   {
    "duration": 151,
    "start_time": "2025-02-13T02:24:20.312Z"
   },
   {
    "duration": 4,
    "start_time": "2025-02-13T02:24:25.470Z"
   },
   {
    "duration": 3,
    "start_time": "2025-02-13T02:24:26.380Z"
   },
   {
    "duration": 6,
    "start_time": "2025-02-13T02:24:31.116Z"
   },
   {
    "duration": 99,
    "start_time": "2025-02-13T02:24:32.257Z"
   },
   {
    "duration": 6,
    "start_time": "2025-02-13T02:24:37.323Z"
   },
   {
    "duration": 4,
    "start_time": "2025-02-13T02:24:49.443Z"
   },
   {
    "duration": 2186,
    "start_time": "2025-02-14T01:06:06.795Z"
   },
   {
    "duration": 36,
    "start_time": "2025-02-14T01:06:08.986Z"
   },
   {
    "duration": 14,
    "start_time": "2025-02-14T01:06:09.202Z"
   },
   {
    "duration": 3,
    "start_time": "2025-02-14T01:06:11.623Z"
   },
   {
    "duration": 100,
    "start_time": "2025-02-14T01:06:31.166Z"
   },
   {
    "duration": 12,
    "start_time": "2025-02-14T01:06:49.133Z"
   },
   {
    "duration": 12,
    "start_time": "2025-02-14T01:06:52.539Z"
   },
   {
    "duration": 3,
    "start_time": "2025-02-14T01:07:00.905Z"
   },
   {
    "duration": 8,
    "start_time": "2025-02-14T01:07:01.720Z"
   },
   {
    "duration": 10,
    "start_time": "2025-02-14T01:07:48.437Z"
   },
   {
    "duration": 7,
    "start_time": "2025-02-14T01:07:57.259Z"
   },
   {
    "duration": 7,
    "start_time": "2025-02-14T01:08:15.423Z"
   },
   {
    "duration": 6,
    "start_time": "2025-02-14T01:08:16.992Z"
   },
   {
    "duration": 13,
    "start_time": "2025-02-14T01:08:35.882Z"
   },
   {
    "duration": 3,
    "start_time": "2025-02-14T01:08:44.004Z"
   },
   {
    "duration": 24,
    "start_time": "2025-02-14T01:08:44.477Z"
   },
   {
    "duration": 12,
    "start_time": "2025-02-14T01:08:44.996Z"
   },
   {
    "duration": 3,
    "start_time": "2025-02-14T01:08:46.185Z"
   },
   {
    "duration": 7,
    "start_time": "2025-02-14T01:08:46.823Z"
   },
   {
    "duration": 7,
    "start_time": "2025-02-14T01:08:47.378Z"
   },
   {
    "duration": 7,
    "start_time": "2025-02-14T01:08:48.055Z"
   },
   {
    "duration": 6,
    "start_time": "2025-02-14T01:08:49.521Z"
   },
   {
    "duration": 11,
    "start_time": "2025-02-14T01:08:50.490Z"
   },
   {
    "duration": 7,
    "start_time": "2025-02-14T01:08:51.480Z"
   },
   {
    "duration": 5,
    "start_time": "2025-02-14T01:08:57.561Z"
   },
   {
    "duration": 8,
    "start_time": "2025-02-14T01:08:58.171Z"
   },
   {
    "duration": 7,
    "start_time": "2025-02-14T01:09:30.169Z"
   },
   {
    "duration": 6,
    "start_time": "2025-02-14T01:14:42.635Z"
   },
   {
    "duration": 7,
    "start_time": "2025-02-14T01:14:43.204Z"
   },
   {
    "duration": 7,
    "start_time": "2025-02-14T01:14:56.766Z"
   },
   {
    "duration": 5,
    "start_time": "2025-02-14T01:14:57.291Z"
   },
   {
    "duration": 6,
    "start_time": "2025-02-14T01:14:57.955Z"
   },
   {
    "duration": 7,
    "start_time": "2025-02-14T01:15:04.193Z"
   },
   {
    "duration": 4,
    "start_time": "2025-02-14T01:15:05.067Z"
   },
   {
    "duration": 7,
    "start_time": "2025-02-14T01:15:05.808Z"
   },
   {
    "duration": 3,
    "start_time": "2025-02-14T01:15:06.722Z"
   },
   {
    "duration": 287,
    "start_time": "2025-02-14T01:15:21.451Z"
   },
   {
    "duration": 5,
    "start_time": "2025-02-14T01:15:40.548Z"
   },
   {
    "duration": 4,
    "start_time": "2025-02-14T01:15:42.364Z"
   },
   {
    "duration": 4,
    "start_time": "2025-02-14T01:16:48.330Z"
   },
   {
    "duration": 123,
    "start_time": "2025-02-14T01:16:49.256Z"
   },
   {
    "duration": 2795,
    "start_time": "2025-02-14T01:23:57.295Z"
   },
   {
    "duration": 138,
    "start_time": "2025-02-14T01:25:38.373Z"
   },
   {
    "duration": 11,
    "start_time": "2025-02-14T01:27:31.670Z"
   },
   {
    "duration": 12,
    "start_time": "2025-02-14T01:39:49.244Z"
   },
   {
    "duration": 11,
    "start_time": "2025-02-14T01:40:30.452Z"
   },
   {
    "duration": 12,
    "start_time": "2025-02-14T01:55:18.696Z"
   },
   {
    "duration": 8,
    "start_time": "2025-02-14T01:56:21.154Z"
   },
   {
    "duration": 143,
    "start_time": "2025-02-14T01:58:05.144Z"
   },
   {
    "duration": 440,
    "start_time": "2025-02-14T01:58:51.895Z"
   },
   {
    "duration": 82,
    "start_time": "2025-02-14T02:00:19.637Z"
   },
   {
    "duration": 180,
    "start_time": "2025-02-14T02:24:33.833Z"
   },
   {
    "duration": 26,
    "start_time": "2025-02-14T02:24:42.369Z"
   },
   {
    "duration": 118,
    "start_time": "2025-02-14T02:25:19.404Z"
   },
   {
    "duration": 172,
    "start_time": "2025-02-14T02:26:41.963Z"
   },
   {
    "duration": 112,
    "start_time": "2025-02-14T02:27:47.810Z"
   },
   {
    "duration": 128,
    "start_time": "2025-02-14T02:33:29.696Z"
   },
   {
    "duration": 127,
    "start_time": "2025-02-14T02:33:44.234Z"
   },
   {
    "duration": 116,
    "start_time": "2025-02-14T02:33:54.874Z"
   },
   {
    "duration": 103,
    "start_time": "2025-02-14T02:34:15.195Z"
   },
   {
    "duration": 2706,
    "start_time": "2025-02-15T01:03:40.250Z"
   },
   {
    "duration": 57,
    "start_time": "2025-02-15T01:03:42.958Z"
   },
   {
    "duration": 19,
    "start_time": "2025-02-15T01:03:43.017Z"
   },
   {
    "duration": 6,
    "start_time": "2025-02-15T01:03:43.038Z"
   },
   {
    "duration": 11,
    "start_time": "2025-02-15T01:03:43.046Z"
   },
   {
    "duration": 9,
    "start_time": "2025-02-15T01:03:43.059Z"
   },
   {
    "duration": 8,
    "start_time": "2025-02-15T01:03:43.070Z"
   },
   {
    "duration": 31,
    "start_time": "2025-02-15T01:03:43.080Z"
   },
   {
    "duration": 12,
    "start_time": "2025-02-15T01:03:43.113Z"
   },
   {
    "duration": 6,
    "start_time": "2025-02-15T01:03:43.129Z"
   },
   {
    "duration": 6,
    "start_time": "2025-02-15T01:03:43.137Z"
   },
   {
    "duration": 8,
    "start_time": "2025-02-15T01:03:43.145Z"
   },
   {
    "duration": 4,
    "start_time": "2025-02-15T01:03:43.155Z"
   },
   {
    "duration": 8,
    "start_time": "2025-02-15T01:03:43.161Z"
   },
   {
    "duration": 36,
    "start_time": "2025-02-15T01:03:43.171Z"
   },
   {
    "duration": 291,
    "start_time": "2025-02-15T01:03:43.208Z"
   },
   {
    "duration": 5,
    "start_time": "2025-02-15T01:03:43.504Z"
   },
   {
    "duration": 5,
    "start_time": "2025-02-15T01:03:43.511Z"
   },
   {
    "duration": 3,
    "start_time": "2025-02-15T01:03:43.518Z"
   },
   {
    "duration": 152,
    "start_time": "2025-02-15T01:03:43.524Z"
   },
   {
    "duration": 13,
    "start_time": "2025-02-15T01:03:43.678Z"
   },
   {
    "duration": 166,
    "start_time": "2025-02-15T01:03:43.692Z"
   },
   {
    "duration": 139,
    "start_time": "2025-02-15T01:03:43.860Z"
   },
   {
    "duration": 133,
    "start_time": "2025-02-15T01:03:44.004Z"
   },
   {
    "duration": 116,
    "start_time": "2025-02-15T01:03:44.139Z"
   },
   {
    "duration": 13,
    "start_time": "2025-02-15T01:06:06.751Z"
   },
   {
    "duration": 5,
    "start_time": "2025-02-15T01:08:38.868Z"
   },
   {
    "duration": 110,
    "start_time": "2025-02-15T01:12:55.368Z"
   },
   {
    "duration": 4,
    "start_time": "2025-02-15T01:13:19.067Z"
   },
   {
    "duration": 127,
    "start_time": "2025-02-15T01:13:19.675Z"
   },
   {
    "duration": 7,
    "start_time": "2025-02-15T01:14:43.647Z"
   },
   {
    "duration": 104,
    "start_time": "2025-02-15T01:14:44.209Z"
   },
   {
    "duration": 6,
    "start_time": "2025-02-15T01:15:48.884Z"
   },
   {
    "duration": 114,
    "start_time": "2025-02-15T01:15:49.584Z"
   },
   {
    "duration": 8,
    "start_time": "2025-02-15T01:16:12.921Z"
   },
   {
    "duration": 109,
    "start_time": "2025-02-15T01:19:18.143Z"
   },
   {
    "duration": 111,
    "start_time": "2025-02-15T01:20:21.742Z"
   },
   {
    "duration": 401,
    "start_time": "2025-02-15T01:20:51.479Z"
   },
   {
    "duration": 109,
    "start_time": "2025-02-15T01:20:57.665Z"
   },
   {
    "duration": 17,
    "start_time": "2025-02-15T01:35:42.713Z"
   },
   {
    "duration": 5,
    "start_time": "2025-02-15T01:35:48.680Z"
   },
   {
    "duration": 136,
    "start_time": "2025-02-15T01:35:49.285Z"
   },
   {
    "duration": 8,
    "start_time": "2025-02-15T01:36:06.936Z"
   },
   {
    "duration": 156,
    "start_time": "2025-02-15T01:41:31.168Z"
   },
   {
    "duration": 138,
    "start_time": "2025-02-15T01:42:52.947Z"
   },
   {
    "duration": 136,
    "start_time": "2025-02-15T01:43:01.286Z"
   },
   {
    "duration": 9,
    "start_time": "2025-02-15T01:53:20.445Z"
   },
   {
    "duration": 5,
    "start_time": "2025-02-15T01:53:21.113Z"
   },
   {
    "duration": 8,
    "start_time": "2025-02-15T01:56:51.831Z"
   },
   {
    "duration": 5,
    "start_time": "2025-02-15T01:56:52.407Z"
   },
   {
    "duration": 8,
    "start_time": "2025-02-15T02:01:57.064Z"
   },
   {
    "duration": 4,
    "start_time": "2025-02-15T02:01:57.535Z"
   },
   {
    "duration": 4,
    "start_time": "2025-02-15T02:10:52.733Z"
   },
   {
    "duration": 4,
    "start_time": "2025-02-15T02:13:48.544Z"
   },
   {
    "duration": 3,
    "start_time": "2025-02-15T02:15:50.375Z"
   },
   {
    "duration": 583,
    "start_time": "2025-02-15T02:15:59.508Z"
   },
   {
    "duration": 16,
    "start_time": "2025-02-15T02:16:00.126Z"
   },
   {
    "duration": 6,
    "start_time": "2025-02-15T02:17:41.375Z"
   },
   {
    "duration": 6,
    "start_time": "2025-02-15T02:17:44.863Z"
   },
   {
    "duration": 7,
    "start_time": "2025-02-15T02:20:42.628Z"
   },
   {
    "duration": 4,
    "start_time": "2025-02-15T02:22:25.697Z"
   },
   {
    "duration": 4,
    "start_time": "2025-02-15T02:22:56.130Z"
   },
   {
    "duration": 8,
    "start_time": "2025-02-15T02:24:47.225Z"
   },
   {
    "duration": 4,
    "start_time": "2025-02-15T02:24:48.034Z"
   },
   {
    "duration": 160,
    "start_time": "2025-02-15T22:13:57.551Z"
   },
   {
    "duration": 11,
    "start_time": "2025-02-15T22:13:59.576Z"
   },
   {
    "duration": 2726,
    "start_time": "2025-02-15T22:14:09.900Z"
   },
   {
    "duration": 35,
    "start_time": "2025-02-15T22:14:12.629Z"
   },
   {
    "duration": 11,
    "start_time": "2025-02-15T22:14:12.666Z"
   },
   {
    "duration": 7,
    "start_time": "2025-02-15T22:14:12.679Z"
   },
   {
    "duration": 8,
    "start_time": "2025-02-15T22:14:12.689Z"
   },
   {
    "duration": 7,
    "start_time": "2025-02-15T22:14:12.698Z"
   },
   {
    "duration": 6,
    "start_time": "2025-02-15T22:14:12.707Z"
   },
   {
    "duration": 7,
    "start_time": "2025-02-15T22:14:12.715Z"
   },
   {
    "duration": 10,
    "start_time": "2025-02-15T22:14:12.723Z"
   },
   {
    "duration": 5,
    "start_time": "2025-02-15T22:14:12.735Z"
   },
   {
    "duration": 45,
    "start_time": "2025-02-15T22:14:12.742Z"
   },
   {
    "duration": 7,
    "start_time": "2025-02-15T22:14:12.788Z"
   },
   {
    "duration": 3,
    "start_time": "2025-02-15T22:14:12.797Z"
   },
   {
    "duration": 8,
    "start_time": "2025-02-15T22:14:12.804Z"
   },
   {
    "duration": 4,
    "start_time": "2025-02-15T22:14:12.814Z"
   },
   {
    "duration": 283,
    "start_time": "2025-02-15T22:14:12.819Z"
   },
   {
    "duration": 7,
    "start_time": "2025-02-15T22:14:13.104Z"
   },
   {
    "duration": 4,
    "start_time": "2025-02-15T22:14:13.113Z"
   },
   {
    "duration": 4,
    "start_time": "2025-02-15T22:14:13.118Z"
   },
   {
    "duration": 177,
    "start_time": "2025-02-15T22:14:13.124Z"
   },
   {
    "duration": 11,
    "start_time": "2025-02-15T22:14:13.303Z"
   },
   {
    "duration": 158,
    "start_time": "2025-02-15T22:14:13.316Z"
   },
   {
    "duration": 96,
    "start_time": "2025-02-15T22:14:13.476Z"
   },
   {
    "duration": 134,
    "start_time": "2025-02-15T22:14:13.574Z"
   },
   {
    "duration": 115,
    "start_time": "2025-02-15T22:14:13.709Z"
   },
   {
    "duration": 8,
    "start_time": "2025-02-15T22:14:13.825Z"
   },
   {
    "duration": 128,
    "start_time": "2025-02-15T22:14:13.834Z"
   },
   {
    "duration": 7,
    "start_time": "2025-02-15T22:14:13.964Z"
   },
   {
    "duration": 145,
    "start_time": "2025-02-15T22:14:13.986Z"
   },
   {
    "duration": 8,
    "start_time": "2025-02-15T22:14:14.133Z"
   },
   {
    "duration": 4,
    "start_time": "2025-02-15T22:14:14.143Z"
   },
   {
    "duration": 7,
    "start_time": "2025-02-15T22:14:14.149Z"
   },
   {
    "duration": 4,
    "start_time": "2025-02-15T22:14:14.158Z"
   },
   {
    "duration": 8,
    "start_time": "2025-02-15T22:14:14.186Z"
   },
   {
    "duration": 4,
    "start_time": "2025-02-15T22:14:14.196Z"
   },
   {
    "duration": 4,
    "start_time": "2025-02-15T22:14:14.201Z"
   },
   {
    "duration": 6,
    "start_time": "2025-02-15T22:14:14.207Z"
   },
   {
    "duration": 6,
    "start_time": "2025-02-15T22:14:14.215Z"
   },
   {
    "duration": 3,
    "start_time": "2025-02-15T22:14:14.223Z"
   },
   {
    "duration": 7,
    "start_time": "2025-02-15T22:14:14.228Z"
   },
   {
    "duration": 3,
    "start_time": "2025-02-15T22:14:14.240Z"
   },
   {
    "duration": 5,
    "start_time": "2025-02-15T22:14:15.463Z"
   },
   {
    "duration": 3,
    "start_time": "2025-02-15T22:14:19.277Z"
   },
   {
    "duration": 6,
    "start_time": "2025-02-15T22:14:31.513Z"
   },
   {
    "duration": 6,
    "start_time": "2025-02-15T22:14:31.843Z"
   },
   {
    "duration": 6,
    "start_time": "2025-02-15T22:14:38.354Z"
   },
   {
    "duration": 4,
    "start_time": "2025-02-15T22:14:38.533Z"
   },
   {
    "duration": 2504,
    "start_time": "2025-02-17T17:33:56.439Z"
   },
   {
    "duration": 35,
    "start_time": "2025-02-17T17:33:58.945Z"
   },
   {
    "duration": 11,
    "start_time": "2025-02-17T17:33:58.982Z"
   },
   {
    "duration": 2,
    "start_time": "2025-02-17T17:33:58.996Z"
   },
   {
    "duration": 16,
    "start_time": "2025-02-17T17:33:59.000Z"
   },
   {
    "duration": 7,
    "start_time": "2025-02-17T17:33:59.018Z"
   },
   {
    "duration": 7,
    "start_time": "2025-02-17T17:33:59.026Z"
   },
   {
    "duration": 5,
    "start_time": "2025-02-17T17:33:59.035Z"
   },
   {
    "duration": 9,
    "start_time": "2025-02-17T17:33:59.042Z"
   },
   {
    "duration": 5,
    "start_time": "2025-02-17T17:33:59.053Z"
   },
   {
    "duration": 6,
    "start_time": "2025-02-17T17:33:59.059Z"
   },
   {
    "duration": 45,
    "start_time": "2025-02-17T17:33:59.067Z"
   },
   {
    "duration": 5,
    "start_time": "2025-02-17T17:33:59.113Z"
   },
   {
    "duration": 10,
    "start_time": "2025-02-17T17:33:59.119Z"
   },
   {
    "duration": 4,
    "start_time": "2025-02-17T17:33:59.130Z"
   },
   {
    "duration": 258,
    "start_time": "2025-02-17T17:33:59.135Z"
   },
   {
    "duration": 4,
    "start_time": "2025-02-17T17:33:59.395Z"
   },
   {
    "duration": 13,
    "start_time": "2025-02-17T17:33:59.400Z"
   },
   {
    "duration": 3,
    "start_time": "2025-02-17T17:33:59.415Z"
   },
   {
    "duration": 150,
    "start_time": "2025-02-17T17:33:59.420Z"
   },
   {
    "duration": 11,
    "start_time": "2025-02-17T17:33:59.572Z"
   },
   {
    "duration": 158,
    "start_time": "2025-02-17T17:33:59.584Z"
   },
   {
    "duration": 91,
    "start_time": "2025-02-17T17:33:59.744Z"
   },
   {
    "duration": 181,
    "start_time": "2025-02-17T17:33:59.837Z"
   },
   {
    "duration": 111,
    "start_time": "2025-02-17T17:34:00.020Z"
   },
   {
    "duration": 7,
    "start_time": "2025-02-17T17:34:00.133Z"
   },
   {
    "duration": 126,
    "start_time": "2025-02-17T17:34:00.142Z"
   },
   {
    "duration": 8,
    "start_time": "2025-02-17T17:34:00.272Z"
   },
   {
    "duration": 155,
    "start_time": "2025-02-17T17:34:00.281Z"
   },
   {
    "duration": 8,
    "start_time": "2025-02-17T17:34:00.437Z"
   },
   {
    "duration": 4,
    "start_time": "2025-02-17T17:34:00.447Z"
   },
   {
    "duration": 7,
    "start_time": "2025-02-17T17:34:00.453Z"
   },
   {
    "duration": 4,
    "start_time": "2025-02-17T17:34:00.461Z"
   },
   {
    "duration": 7,
    "start_time": "2025-02-17T17:34:00.467Z"
   },
   {
    "duration": 4,
    "start_time": "2025-02-17T17:34:00.476Z"
   },
   {
    "duration": 3,
    "start_time": "2025-02-17T17:34:00.513Z"
   },
   {
    "duration": 5,
    "start_time": "2025-02-17T17:34:00.518Z"
   },
   {
    "duration": 6,
    "start_time": "2025-02-17T17:34:00.524Z"
   },
   {
    "duration": 4,
    "start_time": "2025-02-17T17:34:00.532Z"
   },
   {
    "duration": 6,
    "start_time": "2025-02-17T17:34:00.537Z"
   },
   {
    "duration": 4,
    "start_time": "2025-02-17T17:34:00.545Z"
   },
   {
    "duration": 117,
    "start_time": "2025-02-17T17:38:17.283Z"
   },
   {
    "duration": 220,
    "start_time": "2025-02-17T17:40:50.378Z"
   },
   {
    "duration": 6,
    "start_time": "2025-02-17T17:40:57.664Z"
   },
   {
    "duration": 14,
    "start_time": "2025-02-17T17:42:51.008Z"
   },
   {
    "duration": 3,
    "start_time": "2025-02-17T17:43:00.144Z"
   },
   {
    "duration": 6,
    "start_time": "2025-02-17T17:43:12.394Z"
   },
   {
    "duration": 5,
    "start_time": "2025-02-17T17:43:14.355Z"
   },
   {
    "duration": 5,
    "start_time": "2025-02-17T17:44:32.823Z"
   },
   {
    "duration": 3,
    "start_time": "2025-02-17T17:44:43.682Z"
   },
   {
    "duration": 6,
    "start_time": "2025-02-17T17:45:02.730Z"
   },
   {
    "duration": 4,
    "start_time": "2025-02-17T17:45:05.126Z"
   },
   {
    "duration": 2762,
    "start_time": "2025-02-20T02:01:23.891Z"
   },
   {
    "duration": 47,
    "start_time": "2025-02-20T02:01:26.655Z"
   },
   {
    "duration": 18,
    "start_time": "2025-02-20T02:01:26.704Z"
   },
   {
    "duration": 4,
    "start_time": "2025-02-20T02:01:26.725Z"
   },
   {
    "duration": 11,
    "start_time": "2025-02-20T02:01:26.731Z"
   },
   {
    "duration": 10,
    "start_time": "2025-02-20T02:01:26.744Z"
   },
   {
    "duration": 9,
    "start_time": "2025-02-20T02:01:26.756Z"
   },
   {
    "duration": 8,
    "start_time": "2025-02-20T02:01:26.768Z"
   },
   {
    "duration": 12,
    "start_time": "2025-02-20T02:01:26.810Z"
   },
   {
    "duration": 7,
    "start_time": "2025-02-20T02:01:26.826Z"
   },
   {
    "duration": 8,
    "start_time": "2025-02-20T02:01:26.835Z"
   },
   {
    "duration": 9,
    "start_time": "2025-02-20T02:01:26.845Z"
   },
   {
    "duration": 5,
    "start_time": "2025-02-20T02:01:26.856Z"
   },
   {
    "duration": 45,
    "start_time": "2025-02-20T02:01:26.864Z"
   },
   {
    "duration": 4,
    "start_time": "2025-02-20T02:01:26.912Z"
   },
   {
    "duration": 159,
    "start_time": "2025-02-20T02:01:26.918Z"
   },
   {
    "duration": 6,
    "start_time": "2025-02-20T02:01:27.080Z"
   },
   {
    "duration": 4,
    "start_time": "2025-02-20T02:01:27.089Z"
   },
   {
    "duration": 5,
    "start_time": "2025-02-20T02:01:27.110Z"
   },
   {
    "duration": 189,
    "start_time": "2025-02-20T02:01:27.118Z"
   },
   {
    "duration": 13,
    "start_time": "2025-02-20T02:01:34.152Z"
   },
   {
    "duration": 13,
    "start_time": "2025-02-20T02:01:59.668Z"
   },
   {
    "duration": 16,
    "start_time": "2025-02-20T02:02:09.127Z"
   },
   {
    "duration": 13,
    "start_time": "2025-02-20T02:04:40.285Z"
   }
  ],
  "kernelspec": {
   "display_name": "Python 3 (ipykernel)",
   "language": "python",
   "name": "python3"
  },
  "language_info": {
   "codemirror_mode": {
    "name": "ipython",
    "version": 3
   },
   "file_extension": ".py",
   "mimetype": "text/x-python",
   "name": "python",
   "nbconvert_exporter": "python",
   "pygments_lexer": "ipython3",
   "version": "3.9.19"
  },
  "toc": {
   "base_numbering": 1,
   "nav_menu": {},
   "number_sections": true,
   "sideBar": true,
   "skip_h1_title": true,
   "title_cell": "Table of Contents",
   "title_sidebar": "Contents",
   "toc_cell": false,
   "toc_position": {},
   "toc_section_display": true,
   "toc_window_display": false
  }
 },
 "nbformat": 4,
 "nbformat_minor": 2
}
